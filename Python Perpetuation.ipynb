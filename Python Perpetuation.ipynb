{
 "cells": [
  {
   "cell_type": "markdown",
   "metadata": {},
   "source": [
    "# Problem 5"
   ]
  },
  {
   "cell_type": "markdown",
   "metadata": {},
   "source": [
    "### Done By: Mo'ath Yousef"
   ]
  },
  {
   "cell_type": "code",
   "execution_count": 1,
   "metadata": {},
   "outputs": [],
   "source": [
    "import sympy as sp"
   ]
  },
  {
   "cell_type": "markdown",
   "metadata": {},
   "source": [
    "we introduce a new time scale $\\tau = \\omega t $ so that the new period becomes $2\\pi$. "
   ]
  },
  {
   "cell_type": "code",
   "execution_count": 2,
   "metadata": {},
   "outputs": [
    {
     "data": {
      "text/latex": [
       "$\\displaystyle \\epsilon \\omega \\left(x^{2}{\\left(\\tau \\right)} - 1\\right) \\frac{d}{d \\tau} x{\\left(\\tau \\right)} + \\omega^{2} \\frac{d^{2}}{d \\tau^{2}} x{\\left(\\tau \\right)} + x{\\left(\\tau \\right)}$"
      ],
      "text/plain": [
       "epsilon*omega*(x(tau)**2 - 1)*Derivative(x(tau), tau) + omega**2*Derivative(x(tau), (tau, 2)) + x(tau)"
      ]
     },
     "execution_count": 2,
     "metadata": {},
     "output_type": "execute_result"
    }
   ],
   "source": [
    "# Define order of solution \n",
    "N = 2\n",
    "\n",
    "# Define the symbolic parameters\n",
    "epsilon = sp.symbols('epsilon')\n",
    "omega = sp.symbols('omega')\n",
    "omega_i = sp.symbols('omega_(0:' + str(3) + ')')\n",
    "tau = sp.symbols('tau')\n",
    "x = sp.Function('x')(tau)\n",
    "xdot = sp.Derivative(x, tau)\n",
    "xddot = sp.Derivative(xdot, tau)           \n",
    "x0 = sp.Function('x_0')(tau)\n",
    "x1 = sp.Function('x_1')(tau)\n",
    "x2 = sp.Function('x_2')(tau)\n",
    "\n",
    "VDV = omega**2 * xddot + (epsilon**1  * omega * (x**2 - 1)) * xdot +  x  \n",
    "\n",
    "VDV"
   ]
  },
  {
   "cell_type": "code",
   "execution_count": 3,
   "metadata": {},
   "outputs": [
    {
     "data": {
      "text/latex": [
       "$\\displaystyle \\epsilon^{2} \\operatorname{x_{2}}{\\left(\\tau \\right)} + \\epsilon \\operatorname{x_{1}}{\\left(\\tau \\right)} + \\operatorname{x_{0}}{\\left(\\tau \\right)}$"
      ],
      "text/plain": [
       "epsilon**2*x_2(tau) + epsilon*x_1(tau) + x_0(tau)"
      ]
     },
     "execution_count": 3,
     "metadata": {},
     "output_type": "execute_result"
    }
   ],
   "source": [
    "x_i = (x1, x2, x0)\n",
    "XE = sum([epsilon**i * x_i[i-1] for i in range(0,N+1)])\n",
    "XE"
   ]
  },
  {
   "cell_type": "code",
   "execution_count": 4,
   "metadata": {},
   "outputs": [
    {
     "data": {
      "text/latex": [
       "$\\displaystyle \\epsilon^{2} \\omega_{2} + \\epsilon \\omega_{1} + \\omega_{0}$"
      ],
      "text/plain": [
       "epsilon**2*omega_2 + epsilon*omega_1 + omega_0"
      ]
     },
     "execution_count": 4,
     "metadata": {},
     "output_type": "execute_result"
    }
   ],
   "source": [
    "Omegas = sum([epsilon**i * omega_i[i] for i in range(3)])\n",
    "Omegas"
   ]
  },
  {
   "cell_type": "code",
   "execution_count": 5,
   "metadata": {},
   "outputs": [
    {
     "data": {
      "text/latex": [
       "$\\displaystyle \\epsilon^{2} \\operatorname{x_{2}}{\\left(\\tau \\right)} + \\epsilon \\left(\\left(\\epsilon^{2} \\operatorname{x_{2}}{\\left(\\tau \\right)} + \\epsilon \\operatorname{x_{1}}{\\left(\\tau \\right)} + \\operatorname{x_{0}}{\\left(\\tau \\right)}\\right)^{2} - 1\\right) \\left(\\epsilon^{2} \\omega_{2} + \\epsilon \\omega_{1} + \\omega_{0}\\right) \\frac{\\partial}{\\partial \\tau} \\left(\\epsilon^{2} \\operatorname{x_{2}}{\\left(\\tau \\right)} + \\epsilon \\operatorname{x_{1}}{\\left(\\tau \\right)} + \\operatorname{x_{0}}{\\left(\\tau \\right)}\\right) + \\epsilon \\operatorname{x_{1}}{\\left(\\tau \\right)} + \\left(\\epsilon^{2} \\omega_{2} + \\epsilon \\omega_{1} + \\omega_{0}\\right)^{2} \\frac{\\partial^{2}}{\\partial \\tau^{2}} \\left(\\epsilon^{2} \\operatorname{x_{2}}{\\left(\\tau \\right)} + \\epsilon \\operatorname{x_{1}}{\\left(\\tau \\right)} + \\operatorname{x_{0}}{\\left(\\tau \\right)}\\right) + \\operatorname{x_{0}}{\\left(\\tau \\right)}$"
      ],
      "text/plain": [
       "epsilon**2*x_2(tau) + epsilon*((epsilon**2*x_2(tau) + epsilon*x_1(tau) + x_0(tau))**2 - 1)*(epsilon**2*omega_2 + epsilon*omega_1 + omega_0)*Derivative(epsilon**2*x_2(tau) + epsilon*x_1(tau) + x_0(tau), tau) + epsilon*x_1(tau) + (epsilon**2*omega_2 + epsilon*omega_1 + omega_0)**2*Derivative(epsilon**2*x_2(tau) + epsilon*x_1(tau) + x_0(tau), (tau, 2)) + x_0(tau)"
      ]
     },
     "execution_count": 5,
     "metadata": {},
     "output_type": "execute_result"
    }
   ],
   "source": [
    "# Substitute these into the VDV\n",
    "VDV = VDV.subs([(x, XE), (omega, Omegas)])\n",
    "VDV"
   ]
  },
  {
   "cell_type": "code",
   "execution_count": 6,
   "metadata": {},
   "outputs": [
    {
     "data": {
      "text/latex": [
       "$\\displaystyle \\epsilon^{9} \\omega_{2} \\operatorname{x_{2}}^{2}{\\left(\\tau \\right)} \\frac{d}{d \\tau} \\operatorname{x_{2}}{\\left(\\tau \\right)} + \\epsilon^{8} \\left(\\omega_{1} \\operatorname{x_{2}}^{2}{\\left(\\tau \\right)} \\frac{d}{d \\tau} \\operatorname{x_{2}}{\\left(\\tau \\right)} + 2 \\omega_{2} \\operatorname{x_{1}}{\\left(\\tau \\right)} \\operatorname{x_{2}}{\\left(\\tau \\right)} \\frac{d}{d \\tau} \\operatorname{x_{2}}{\\left(\\tau \\right)} + \\omega_{2} \\operatorname{x_{2}}^{2}{\\left(\\tau \\right)} \\frac{d}{d \\tau} \\operatorname{x_{1}}{\\left(\\tau \\right)}\\right) + \\epsilon^{7} \\left(\\omega_{0} \\operatorname{x_{2}}^{2}{\\left(\\tau \\right)} \\frac{d}{d \\tau} \\operatorname{x_{2}}{\\left(\\tau \\right)} + 2 \\omega_{1} \\operatorname{x_{1}}{\\left(\\tau \\right)} \\operatorname{x_{2}}{\\left(\\tau \\right)} \\frac{d}{d \\tau} \\operatorname{x_{2}}{\\left(\\tau \\right)} + \\omega_{1} \\operatorname{x_{2}}^{2}{\\left(\\tau \\right)} \\frac{d}{d \\tau} \\operatorname{x_{1}}{\\left(\\tau \\right)} + 2 \\omega_{2} \\operatorname{x_{0}}{\\left(\\tau \\right)} \\operatorname{x_{2}}{\\left(\\tau \\right)} \\frac{d}{d \\tau} \\operatorname{x_{2}}{\\left(\\tau \\right)} + \\omega_{2} \\operatorname{x_{1}}^{2}{\\left(\\tau \\right)} \\frac{d}{d \\tau} \\operatorname{x_{2}}{\\left(\\tau \\right)} + 2 \\omega_{2} \\operatorname{x_{1}}{\\left(\\tau \\right)} \\operatorname{x_{2}}{\\left(\\tau \\right)} \\frac{d}{d \\tau} \\operatorname{x_{1}}{\\left(\\tau \\right)} + \\omega_{2} \\operatorname{x_{2}}^{2}{\\left(\\tau \\right)} \\frac{d}{d \\tau} \\operatorname{x_{0}}{\\left(\\tau \\right)}\\right) + \\epsilon^{6} \\cdot \\left(2 \\omega_{0} \\operatorname{x_{1}}{\\left(\\tau \\right)} \\operatorname{x_{2}}{\\left(\\tau \\right)} \\frac{d}{d \\tau} \\operatorname{x_{2}}{\\left(\\tau \\right)} + \\omega_{0} \\operatorname{x_{2}}^{2}{\\left(\\tau \\right)} \\frac{d}{d \\tau} \\operatorname{x_{1}}{\\left(\\tau \\right)} + 2 \\omega_{1} \\operatorname{x_{0}}{\\left(\\tau \\right)} \\operatorname{x_{2}}{\\left(\\tau \\right)} \\frac{d}{d \\tau} \\operatorname{x_{2}}{\\left(\\tau \\right)} + \\omega_{1} \\operatorname{x_{1}}^{2}{\\left(\\tau \\right)} \\frac{d}{d \\tau} \\operatorname{x_{2}}{\\left(\\tau \\right)} + 2 \\omega_{1} \\operatorname{x_{1}}{\\left(\\tau \\right)} \\operatorname{x_{2}}{\\left(\\tau \\right)} \\frac{d}{d \\tau} \\operatorname{x_{1}}{\\left(\\tau \\right)} + \\omega_{1} \\operatorname{x_{2}}^{2}{\\left(\\tau \\right)} \\frac{d}{d \\tau} \\operatorname{x_{0}}{\\left(\\tau \\right)} + \\omega_{2}^{2} \\frac{d^{2}}{d \\tau^{2}} \\operatorname{x_{2}}{\\left(\\tau \\right)} + 2 \\omega_{2} \\operatorname{x_{0}}{\\left(\\tau \\right)} \\operatorname{x_{1}}{\\left(\\tau \\right)} \\frac{d}{d \\tau} \\operatorname{x_{2}}{\\left(\\tau \\right)} + 2 \\omega_{2} \\operatorname{x_{0}}{\\left(\\tau \\right)} \\operatorname{x_{2}}{\\left(\\tau \\right)} \\frac{d}{d \\tau} \\operatorname{x_{1}}{\\left(\\tau \\right)} + \\omega_{2} \\operatorname{x_{1}}^{2}{\\left(\\tau \\right)} \\frac{d}{d \\tau} \\operatorname{x_{1}}{\\left(\\tau \\right)} + 2 \\omega_{2} \\operatorname{x_{1}}{\\left(\\tau \\right)} \\operatorname{x_{2}}{\\left(\\tau \\right)} \\frac{d}{d \\tau} \\operatorname{x_{0}}{\\left(\\tau \\right)}\\right) + \\epsilon^{5} \\cdot \\left(2 \\omega_{0} \\operatorname{x_{0}}{\\left(\\tau \\right)} \\operatorname{x_{2}}{\\left(\\tau \\right)} \\frac{d}{d \\tau} \\operatorname{x_{2}}{\\left(\\tau \\right)} + \\omega_{0} \\operatorname{x_{1}}^{2}{\\left(\\tau \\right)} \\frac{d}{d \\tau} \\operatorname{x_{2}}{\\left(\\tau \\right)} + 2 \\omega_{0} \\operatorname{x_{1}}{\\left(\\tau \\right)} \\operatorname{x_{2}}{\\left(\\tau \\right)} \\frac{d}{d \\tau} \\operatorname{x_{1}}{\\left(\\tau \\right)} + \\omega_{0} \\operatorname{x_{2}}^{2}{\\left(\\tau \\right)} \\frac{d}{d \\tau} \\operatorname{x_{0}}{\\left(\\tau \\right)} + 2 \\omega_{1} \\omega_{2} \\frac{d^{2}}{d \\tau^{2}} \\operatorname{x_{2}}{\\left(\\tau \\right)} + 2 \\omega_{1} \\operatorname{x_{0}}{\\left(\\tau \\right)} \\operatorname{x_{1}}{\\left(\\tau \\right)} \\frac{d}{d \\tau} \\operatorname{x_{2}}{\\left(\\tau \\right)} + 2 \\omega_{1} \\operatorname{x_{0}}{\\left(\\tau \\right)} \\operatorname{x_{2}}{\\left(\\tau \\right)} \\frac{d}{d \\tau} \\operatorname{x_{1}}{\\left(\\tau \\right)} + \\omega_{1} \\operatorname{x_{1}}^{2}{\\left(\\tau \\right)} \\frac{d}{d \\tau} \\operatorname{x_{1}}{\\left(\\tau \\right)} + 2 \\omega_{1} \\operatorname{x_{1}}{\\left(\\tau \\right)} \\operatorname{x_{2}}{\\left(\\tau \\right)} \\frac{d}{d \\tau} \\operatorname{x_{0}}{\\left(\\tau \\right)} + \\omega_{2}^{2} \\frac{d^{2}}{d \\tau^{2}} \\operatorname{x_{1}}{\\left(\\tau \\right)} + \\omega_{2} \\operatorname{x_{0}}^{2}{\\left(\\tau \\right)} \\frac{d}{d \\tau} \\operatorname{x_{2}}{\\left(\\tau \\right)} + 2 \\omega_{2} \\operatorname{x_{0}}{\\left(\\tau \\right)} \\operatorname{x_{1}}{\\left(\\tau \\right)} \\frac{d}{d \\tau} \\operatorname{x_{1}}{\\left(\\tau \\right)} + 2 \\omega_{2} \\operatorname{x_{0}}{\\left(\\tau \\right)} \\operatorname{x_{2}}{\\left(\\tau \\right)} \\frac{d}{d \\tau} \\operatorname{x_{0}}{\\left(\\tau \\right)} + \\omega_{2} \\operatorname{x_{1}}^{2}{\\left(\\tau \\right)} \\frac{d}{d \\tau} \\operatorname{x_{0}}{\\left(\\tau \\right)} - \\omega_{2} \\frac{d}{d \\tau} \\operatorname{x_{2}}{\\left(\\tau \\right)}\\right) + \\epsilon^{4} \\cdot \\left(2 \\omega_{0} \\omega_{2} \\frac{d^{2}}{d \\tau^{2}} \\operatorname{x_{2}}{\\left(\\tau \\right)} + 2 \\omega_{0} \\operatorname{x_{0}}{\\left(\\tau \\right)} \\operatorname{x_{1}}{\\left(\\tau \\right)} \\frac{d}{d \\tau} \\operatorname{x_{2}}{\\left(\\tau \\right)} + 2 \\omega_{0} \\operatorname{x_{0}}{\\left(\\tau \\right)} \\operatorname{x_{2}}{\\left(\\tau \\right)} \\frac{d}{d \\tau} \\operatorname{x_{1}}{\\left(\\tau \\right)} + \\omega_{0} \\operatorname{x_{1}}^{2}{\\left(\\tau \\right)} \\frac{d}{d \\tau} \\operatorname{x_{1}}{\\left(\\tau \\right)} + 2 \\omega_{0} \\operatorname{x_{1}}{\\left(\\tau \\right)} \\operatorname{x_{2}}{\\left(\\tau \\right)} \\frac{d}{d \\tau} \\operatorname{x_{0}}{\\left(\\tau \\right)} + \\omega_{1}^{2} \\frac{d^{2}}{d \\tau^{2}} \\operatorname{x_{2}}{\\left(\\tau \\right)} + 2 \\omega_{1} \\omega_{2} \\frac{d^{2}}{d \\tau^{2}} \\operatorname{x_{1}}{\\left(\\tau \\right)} + \\omega_{1} \\operatorname{x_{0}}^{2}{\\left(\\tau \\right)} \\frac{d}{d \\tau} \\operatorname{x_{2}}{\\left(\\tau \\right)} + 2 \\omega_{1} \\operatorname{x_{0}}{\\left(\\tau \\right)} \\operatorname{x_{1}}{\\left(\\tau \\right)} \\frac{d}{d \\tau} \\operatorname{x_{1}}{\\left(\\tau \\right)} + 2 \\omega_{1} \\operatorname{x_{0}}{\\left(\\tau \\right)} \\operatorname{x_{2}}{\\left(\\tau \\right)} \\frac{d}{d \\tau} \\operatorname{x_{0}}{\\left(\\tau \\right)} + \\omega_{1} \\operatorname{x_{1}}^{2}{\\left(\\tau \\right)} \\frac{d}{d \\tau} \\operatorname{x_{0}}{\\left(\\tau \\right)} - \\omega_{1} \\frac{d}{d \\tau} \\operatorname{x_{2}}{\\left(\\tau \\right)} + \\omega_{2}^{2} \\frac{d^{2}}{d \\tau^{2}} \\operatorname{x_{0}}{\\left(\\tau \\right)} + \\omega_{2} \\operatorname{x_{0}}^{2}{\\left(\\tau \\right)} \\frac{d}{d \\tau} \\operatorname{x_{1}}{\\left(\\tau \\right)} + 2 \\omega_{2} \\operatorname{x_{0}}{\\left(\\tau \\right)} \\operatorname{x_{1}}{\\left(\\tau \\right)} \\frac{d}{d \\tau} \\operatorname{x_{0}}{\\left(\\tau \\right)} - \\omega_{2} \\frac{d}{d \\tau} \\operatorname{x_{1}}{\\left(\\tau \\right)}\\right) + \\epsilon^{3} \\cdot \\left(2 \\omega_{0} \\omega_{1} \\frac{d^{2}}{d \\tau^{2}} \\operatorname{x_{2}}{\\left(\\tau \\right)} + 2 \\omega_{0} \\omega_{2} \\frac{d^{2}}{d \\tau^{2}} \\operatorname{x_{1}}{\\left(\\tau \\right)} + \\omega_{0} \\operatorname{x_{0}}^{2}{\\left(\\tau \\right)} \\frac{d}{d \\tau} \\operatorname{x_{2}}{\\left(\\tau \\right)} + 2 \\omega_{0} \\operatorname{x_{0}}{\\left(\\tau \\right)} \\operatorname{x_{1}}{\\left(\\tau \\right)} \\frac{d}{d \\tau} \\operatorname{x_{1}}{\\left(\\tau \\right)} + 2 \\omega_{0} \\operatorname{x_{0}}{\\left(\\tau \\right)} \\operatorname{x_{2}}{\\left(\\tau \\right)} \\frac{d}{d \\tau} \\operatorname{x_{0}}{\\left(\\tau \\right)} + \\omega_{0} \\operatorname{x_{1}}^{2}{\\left(\\tau \\right)} \\frac{d}{d \\tau} \\operatorname{x_{0}}{\\left(\\tau \\right)} - \\omega_{0} \\frac{d}{d \\tau} \\operatorname{x_{2}}{\\left(\\tau \\right)} + \\omega_{1}^{2} \\frac{d^{2}}{d \\tau^{2}} \\operatorname{x_{1}}{\\left(\\tau \\right)} + 2 \\omega_{1} \\omega_{2} \\frac{d^{2}}{d \\tau^{2}} \\operatorname{x_{0}}{\\left(\\tau \\right)} + \\omega_{1} \\operatorname{x_{0}}^{2}{\\left(\\tau \\right)} \\frac{d}{d \\tau} \\operatorname{x_{1}}{\\left(\\tau \\right)} + 2 \\omega_{1} \\operatorname{x_{0}}{\\left(\\tau \\right)} \\operatorname{x_{1}}{\\left(\\tau \\right)} \\frac{d}{d \\tau} \\operatorname{x_{0}}{\\left(\\tau \\right)} - \\omega_{1} \\frac{d}{d \\tau} \\operatorname{x_{1}}{\\left(\\tau \\right)} + \\omega_{2} \\operatorname{x_{0}}^{2}{\\left(\\tau \\right)} \\frac{d}{d \\tau} \\operatorname{x_{0}}{\\left(\\tau \\right)} - \\omega_{2} \\frac{d}{d \\tau} \\operatorname{x_{0}}{\\left(\\tau \\right)}\\right) + \\epsilon^{2} \\left(\\omega_{0}^{2} \\frac{d^{2}}{d \\tau^{2}} \\operatorname{x_{2}}{\\left(\\tau \\right)} + 2 \\omega_{0} \\omega_{1} \\frac{d^{2}}{d \\tau^{2}} \\operatorname{x_{1}}{\\left(\\tau \\right)} + 2 \\omega_{0} \\omega_{2} \\frac{d^{2}}{d \\tau^{2}} \\operatorname{x_{0}}{\\left(\\tau \\right)} + \\omega_{0} \\operatorname{x_{0}}^{2}{\\left(\\tau \\right)} \\frac{d}{d \\tau} \\operatorname{x_{1}}{\\left(\\tau \\right)} + 2 \\omega_{0} \\operatorname{x_{0}}{\\left(\\tau \\right)} \\operatorname{x_{1}}{\\left(\\tau \\right)} \\frac{d}{d \\tau} \\operatorname{x_{0}}{\\left(\\tau \\right)} - \\omega_{0} \\frac{d}{d \\tau} \\operatorname{x_{1}}{\\left(\\tau \\right)} + \\omega_{1}^{2} \\frac{d^{2}}{d \\tau^{2}} \\operatorname{x_{0}}{\\left(\\tau \\right)} + \\omega_{1} \\operatorname{x_{0}}^{2}{\\left(\\tau \\right)} \\frac{d}{d \\tau} \\operatorname{x_{0}}{\\left(\\tau \\right)} - \\omega_{1} \\frac{d}{d \\tau} \\operatorname{x_{0}}{\\left(\\tau \\right)} + \\operatorname{x_{2}}{\\left(\\tau \\right)}\\right) + \\epsilon \\left(\\omega_{0}^{2} \\frac{d^{2}}{d \\tau^{2}} \\operatorname{x_{1}}{\\left(\\tau \\right)} + 2 \\omega_{0} \\omega_{1} \\frac{d^{2}}{d \\tau^{2}} \\operatorname{x_{0}}{\\left(\\tau \\right)} + \\omega_{0} \\operatorname{x_{0}}^{2}{\\left(\\tau \\right)} \\frac{d}{d \\tau} \\operatorname{x_{0}}{\\left(\\tau \\right)} - \\omega_{0} \\frac{d}{d \\tau} \\operatorname{x_{0}}{\\left(\\tau \\right)} + \\operatorname{x_{1}}{\\left(\\tau \\right)}\\right) + \\omega_{0}^{2} \\frac{d^{2}}{d \\tau^{2}} \\operatorname{x_{0}}{\\left(\\tau \\right)} + \\operatorname{x_{0}}{\\left(\\tau \\right)}$"
      ],
      "text/plain": [
       "epsilon**9*omega_2*x_2(tau)**2*Derivative(x_2(tau), tau) + epsilon**8*(omega_1*x_2(tau)**2*Derivative(x_2(tau), tau) + 2*omega_2*x_1(tau)*x_2(tau)*Derivative(x_2(tau), tau) + omega_2*x_2(tau)**2*Derivative(x_1(tau), tau)) + epsilon**7*(omega_0*x_2(tau)**2*Derivative(x_2(tau), tau) + 2*omega_1*x_1(tau)*x_2(tau)*Derivative(x_2(tau), tau) + omega_1*x_2(tau)**2*Derivative(x_1(tau), tau) + 2*omega_2*x_0(tau)*x_2(tau)*Derivative(x_2(tau), tau) + omega_2*x_1(tau)**2*Derivative(x_2(tau), tau) + 2*omega_2*x_1(tau)*x_2(tau)*Derivative(x_1(tau), tau) + omega_2*x_2(tau)**2*Derivative(x_0(tau), tau)) + epsilon**6*(2*omega_0*x_1(tau)*x_2(tau)*Derivative(x_2(tau), tau) + omega_0*x_2(tau)**2*Derivative(x_1(tau), tau) + 2*omega_1*x_0(tau)*x_2(tau)*Derivative(x_2(tau), tau) + omega_1*x_1(tau)**2*Derivative(x_2(tau), tau) + 2*omega_1*x_1(tau)*x_2(tau)*Derivative(x_1(tau), tau) + omega_1*x_2(tau)**2*Derivative(x_0(tau), tau) + omega_2**2*Derivative(x_2(tau), (tau, 2)) + 2*omega_2*x_0(tau)*x_1(tau)*Derivative(x_2(tau), tau) + 2*omega_2*x_0(tau)*x_2(tau)*Derivative(x_1(tau), tau) + omega_2*x_1(tau)**2*Derivative(x_1(tau), tau) + 2*omega_2*x_1(tau)*x_2(tau)*Derivative(x_0(tau), tau)) + epsilon**5*(2*omega_0*x_0(tau)*x_2(tau)*Derivative(x_2(tau), tau) + omega_0*x_1(tau)**2*Derivative(x_2(tau), tau) + 2*omega_0*x_1(tau)*x_2(tau)*Derivative(x_1(tau), tau) + omega_0*x_2(tau)**2*Derivative(x_0(tau), tau) + 2*omega_1*omega_2*Derivative(x_2(tau), (tau, 2)) + 2*omega_1*x_0(tau)*x_1(tau)*Derivative(x_2(tau), tau) + 2*omega_1*x_0(tau)*x_2(tau)*Derivative(x_1(tau), tau) + omega_1*x_1(tau)**2*Derivative(x_1(tau), tau) + 2*omega_1*x_1(tau)*x_2(tau)*Derivative(x_0(tau), tau) + omega_2**2*Derivative(x_1(tau), (tau, 2)) + omega_2*x_0(tau)**2*Derivative(x_2(tau), tau) + 2*omega_2*x_0(tau)*x_1(tau)*Derivative(x_1(tau), tau) + 2*omega_2*x_0(tau)*x_2(tau)*Derivative(x_0(tau), tau) + omega_2*x_1(tau)**2*Derivative(x_0(tau), tau) - omega_2*Derivative(x_2(tau), tau)) + epsilon**4*(2*omega_0*omega_2*Derivative(x_2(tau), (tau, 2)) + 2*omega_0*x_0(tau)*x_1(tau)*Derivative(x_2(tau), tau) + 2*omega_0*x_0(tau)*x_2(tau)*Derivative(x_1(tau), tau) + omega_0*x_1(tau)**2*Derivative(x_1(tau), tau) + 2*omega_0*x_1(tau)*x_2(tau)*Derivative(x_0(tau), tau) + omega_1**2*Derivative(x_2(tau), (tau, 2)) + 2*omega_1*omega_2*Derivative(x_1(tau), (tau, 2)) + omega_1*x_0(tau)**2*Derivative(x_2(tau), tau) + 2*omega_1*x_0(tau)*x_1(tau)*Derivative(x_1(tau), tau) + 2*omega_1*x_0(tau)*x_2(tau)*Derivative(x_0(tau), tau) + omega_1*x_1(tau)**2*Derivative(x_0(tau), tau) - omega_1*Derivative(x_2(tau), tau) + omega_2**2*Derivative(x_0(tau), (tau, 2)) + omega_2*x_0(tau)**2*Derivative(x_1(tau), tau) + 2*omega_2*x_0(tau)*x_1(tau)*Derivative(x_0(tau), tau) - omega_2*Derivative(x_1(tau), tau)) + epsilon**3*(2*omega_0*omega_1*Derivative(x_2(tau), (tau, 2)) + 2*omega_0*omega_2*Derivative(x_1(tau), (tau, 2)) + omega_0*x_0(tau)**2*Derivative(x_2(tau), tau) + 2*omega_0*x_0(tau)*x_1(tau)*Derivative(x_1(tau), tau) + 2*omega_0*x_0(tau)*x_2(tau)*Derivative(x_0(tau), tau) + omega_0*x_1(tau)**2*Derivative(x_0(tau), tau) - omega_0*Derivative(x_2(tau), tau) + omega_1**2*Derivative(x_1(tau), (tau, 2)) + 2*omega_1*omega_2*Derivative(x_0(tau), (tau, 2)) + omega_1*x_0(tau)**2*Derivative(x_1(tau), tau) + 2*omega_1*x_0(tau)*x_1(tau)*Derivative(x_0(tau), tau) - omega_1*Derivative(x_1(tau), tau) + omega_2*x_0(tau)**2*Derivative(x_0(tau), tau) - omega_2*Derivative(x_0(tau), tau)) + epsilon**2*(omega_0**2*Derivative(x_2(tau), (tau, 2)) + 2*omega_0*omega_1*Derivative(x_1(tau), (tau, 2)) + 2*omega_0*omega_2*Derivative(x_0(tau), (tau, 2)) + omega_0*x_0(tau)**2*Derivative(x_1(tau), tau) + 2*omega_0*x_0(tau)*x_1(tau)*Derivative(x_0(tau), tau) - omega_0*Derivative(x_1(tau), tau) + omega_1**2*Derivative(x_0(tau), (tau, 2)) + omega_1*x_0(tau)**2*Derivative(x_0(tau), tau) - omega_1*Derivative(x_0(tau), tau) + x_2(tau)) + epsilon*(omega_0**2*Derivative(x_1(tau), (tau, 2)) + 2*omega_0*omega_1*Derivative(x_0(tau), (tau, 2)) + omega_0*x_0(tau)**2*Derivative(x_0(tau), tau) - omega_0*Derivative(x_0(tau), tau) + x_1(tau)) + omega_0**2*Derivative(x_0(tau), (tau, 2)) + x_0(tau)"
      ]
     },
     "execution_count": 6,
     "metadata": {},
     "output_type": "execute_result"
    }
   ],
   "source": [
    "# Not important to me\n",
    "VDV = sp.expand(VDV).doit()\n",
    "VDV = sp.expand(VDV)\n",
    "VDV = sp.collect(VDV,epsilon)\n",
    "VDV"
   ]
  },
  {
   "cell_type": "markdown",
   "metadata": {},
   "source": [
    "Substitute series expansions for the above into the main equation. We note that $\\omega_0 = 1$ since the solution has period $2\\pi$ when $\\epsilon = 0$. We substitute the same expansions into the initial conditions and find the resulting initial\n",
    "conditions for $x_i(t)$."
   ]
  },
  {
   "cell_type": "code",
   "execution_count": 7,
   "metadata": {},
   "outputs": [
    {
     "data": {
      "text/latex": [
       "$\\displaystyle \\operatorname{x_{0}}{\\left(\\tau \\right)} + \\frac{d^{2}}{d \\tau^{2}} \\operatorname{x_{0}}{\\left(\\tau \\right)} = 0$"
      ],
      "text/plain": [
       "Eq(x_0(tau) + Derivative(x_0(tau), (tau, 2)), 0)"
      ]
     },
     "execution_count": 7,
     "metadata": {},
     "output_type": "execute_result"
    }
   ],
   "source": [
    "# Collect the coefficients for the epsilons \n",
    "epsilonEqu = sp.collect(VDV, epsilon, evaluate=False)\n",
    "epsilon_1_Eq = sp.Eq(epsilonEqu[epsilon**0], 0)\n",
    "epsilon_1_Eq = epsilon_1_Eq.subs(omega_i[0],1)\n",
    "epsilon_1_Eq"
   ]
  },
  {
   "cell_type": "code",
   "execution_count": 8,
   "metadata": {},
   "outputs": [
    {
     "data": {
      "text/latex": [
       "$\\displaystyle \\operatorname{x_{0}}^{2}{\\left(\\tau \\right)} \\frac{d}{d \\tau} \\operatorname{x_{0}}{\\left(\\tau \\right)} + \\operatorname{x_{1}}{\\left(\\tau \\right)} - \\frac{d}{d \\tau} \\operatorname{x_{0}}{\\left(\\tau \\right)} + \\frac{d^{2}}{d \\tau^{2}} \\operatorname{x_{1}}{\\left(\\tau \\right)} = 0$"
      ],
      "text/plain": [
       "Eq(x_0(tau)**2*Derivative(x_0(tau), tau) + x_1(tau) - Derivative(x_0(tau), tau) + Derivative(x_1(tau), (tau, 2)), 0)"
      ]
     },
     "execution_count": 8,
     "metadata": {},
     "output_type": "execute_result"
    }
   ],
   "source": [
    "epsilon_2_Eq = sp.Eq(epsilonEqu[epsilon**1], 0)\n",
    "epsilon_2_Eq = epsilon_2_Eq.subs(omega_i[0],1)\n",
    "epsilon_2_Eq = epsilon_2_Eq.subs(omega_i[1],0)\n",
    "epsilon_2_Eq"
   ]
  },
  {
   "cell_type": "code",
   "execution_count": 9,
   "metadata": {},
   "outputs": [
    {
     "data": {
      "text/latex": [
       "$\\displaystyle 2 \\omega_{2} \\frac{d^{2}}{d \\tau^{2}} \\operatorname{x_{0}}{\\left(\\tau \\right)} + \\operatorname{x_{0}}^{2}{\\left(\\tau \\right)} \\frac{d}{d \\tau} \\operatorname{x_{1}}{\\left(\\tau \\right)} + 2 \\operatorname{x_{0}}{\\left(\\tau \\right)} \\operatorname{x_{1}}{\\left(\\tau \\right)} \\frac{d}{d \\tau} \\operatorname{x_{0}}{\\left(\\tau \\right)} + \\operatorname{x_{2}}{\\left(\\tau \\right)} - \\frac{d}{d \\tau} \\operatorname{x_{1}}{\\left(\\tau \\right)} + \\frac{d^{2}}{d \\tau^{2}} \\operatorname{x_{2}}{\\left(\\tau \\right)} = 0$"
      ],
      "text/plain": [
       "Eq(2*omega_2*Derivative(x_0(tau), (tau, 2)) + x_0(tau)**2*Derivative(x_1(tau), tau) + 2*x_0(tau)*x_1(tau)*Derivative(x_0(tau), tau) + x_2(tau) - Derivative(x_1(tau), tau) + Derivative(x_2(tau), (tau, 2)), 0)"
      ]
     },
     "execution_count": 9,
     "metadata": {},
     "output_type": "execute_result"
    }
   ],
   "source": [
    "epsilon_3_Eq = sp.Eq(epsilonEqu[epsilon**2], 0)\n",
    "epsilon_3_Eq = epsilon_3_Eq.subs(omega_i[0],1)\n",
    "epsilon_3_Eq = epsilon_3_Eq.subs(omega_i[1],0)\n",
    "sp.cancel(epsilon_3_Eq)"
   ]
  },
  {
   "cell_type": "markdown",
   "metadata": {},
   "source": [
    "Now suppose the initial conditions are $x(0) = a$ and $\\dot{x}(0)=0$, with $(a)$ a constant which\n",
    "is not yet determined. Other initial conditions are equal to zero. "
   ]
  },
  {
   "cell_type": "code",
   "execution_count": 10,
   "metadata": {},
   "outputs": [
    {
     "data": {
      "text/latex": [
       "$\\displaystyle \\operatorname{x_{0}}{\\left(\\tau \\right)} = a \\cos{\\left(\\tau \\right)}$"
      ],
      "text/plain": [
       "x₀(τ) = a⋅cos(τ)"
      ]
     },
     "execution_count": 10,
     "metadata": {},
     "output_type": "execute_result"
    }
   ],
   "source": [
    "from sympy import *\n",
    "init_printing(use_latex='mathjax')\n",
    "a = sp.symbols('a')\n",
    "x00 = Function('x_0')\n",
    "tau = Symbol('tau')\n",
    "X0 = dsolve(epsilon_1_Eq,x00(tau),ics={x00(0): a, x00(tau).diff(tau).subs(tau, 0): 0})\n",
    "X0"
   ]
  },
  {
   "cell_type": "markdown",
   "metadata": {},
   "source": [
    "For the zeroth order equation, we have $x_0(\\tau) = a cos(\\tau)$. Substituting this into the\n",
    "equation for $x_1$ we obtain the equation below "
   ]
  },
  {
   "cell_type": "code",
   "execution_count": 11,
   "metadata": {},
   "outputs": [
    {
     "data": {
      "text/latex": [
       "$\\displaystyle a^{2} \\cos^{2}{\\left(\\tau \\right)} \\frac{\\partial}{\\partial \\tau} a \\cos{\\left(\\tau \\right)} + \\operatorname{x_{1}}{\\left(\\tau \\right)} - \\frac{\\partial}{\\partial \\tau} a \\cos{\\left(\\tau \\right)} + \\frac{d^{2}}{d \\tau^{2}} \\operatorname{x_{1}}{\\left(\\tau \\right)} = 0$"
      ],
      "text/plain": [
       "                                                   2           \n",
       " 2    2    ∂                      ∂               d            \n",
       "a ⋅cos (τ)⋅──(a⋅cos(τ)) + x₁(τ) - ──(a⋅cos(τ)) + ───(x₁(τ)) = 0\n",
       "           ∂τ                     ∂τ               2           \n",
       "                                                 dτ            "
      ]
     },
     "execution_count": 11,
     "metadata": {},
     "output_type": "execute_result"
    }
   ],
   "source": [
    "epsilon_2_Eq.subs(x0,a * sp.cos(tau))"
   ]
  },
  {
   "cell_type": "markdown",
   "metadata": {},
   "source": [
    "There are two distinct resonant forces here, the term proportional to $cos(\\tau)$ can be\n",
    "eliminated by choosing $\\omega_1 = 0$, while in order to suppress the term proportional to\n",
    "$sin(\\tau)$ we have to choose the initial conditions so that $a = \\mp 2$. Take $a = 2$. The\n",
    "resulting equation becomes: "
   ]
  },
  {
   "cell_type": "code",
   "execution_count": 12,
   "metadata": {},
   "outputs": [
    {
     "data": {
      "text/latex": [
       "$\\displaystyle \\operatorname{x_{1}}{\\left(\\tau \\right)} + 4 \\cos^{2}{\\left(\\tau \\right)} \\frac{d}{d \\tau} 2 \\cos{\\left(\\tau \\right)} + \\frac{d^{2}}{d \\tau^{2}} \\operatorname{x_{1}}{\\left(\\tau \\right)} - \\frac{d}{d \\tau} 2 \\cos{\\left(\\tau \\right)} = 0$"
      ],
      "text/plain": [
       "                                   2                          \n",
       "             2    d               d           d               \n",
       "x₁(τ) + 4⋅cos (τ)⋅──(2⋅cos(τ)) + ───(x₁(τ)) - ──(2⋅cos(τ)) = 0\n",
       "                  dτ               2          dτ              \n",
       "                                 dτ                           "
      ]
     },
     "execution_count": 12,
     "metadata": {},
     "output_type": "execute_result"
    }
   ],
   "source": [
    "rrr = epsilon_2_Eq.subs(x0,a * sp.cos(tau))\n",
    "rrr = rrr.subs(a,2)\n",
    "#rrr = rrr.subs(omega_i[1],0)\n",
    "rrr"
   ]
  },
  {
   "cell_type": "code",
   "execution_count": 13,
   "metadata": {},
   "outputs": [
    {
     "data": {
      "text/latex": [
       "$\\displaystyle \\operatorname{x_{1}}{\\left(\\tau \\right)} = \\frac{3 \\sin{\\left(\\tau \\right)}}{4} - \\frac{\\sin{\\left(3 \\tau \\right)}}{4}$"
      ],
      "text/plain": [
       "        3⋅sin(τ)   sin(3⋅τ)\n",
       "x₁(τ) = ──────── - ────────\n",
       "           4          4    "
      ]
     },
     "execution_count": 13,
     "metadata": {},
     "output_type": "execute_result"
    }
   ],
   "source": [
    "from sympy import *\n",
    "init_printing(use_latex='mathjax')\n",
    "a = sp.symbols('a')\n",
    "x01 = Function('x_1')\n",
    "tau = Symbol('tau')\n",
    "X1 = dsolve(rrr,x01(tau),ics={x01(0): 0, x01(tau).diff(tau).subs(tau, 0): 0})\n",
    "X1"
   ]
  },
  {
   "cell_type": "markdown",
   "metadata": {},
   "source": [
    "This solution is equal to $ x_1(\\tau) = sin^3(\\tau) $ by trig identities "
   ]
  },
  {
   "cell_type": "code",
   "execution_count": 14,
   "metadata": {},
   "outputs": [
    {
     "data": {
      "text/latex": [
       "$\\displaystyle 2 \\omega_{2} \\frac{d^{2}}{d \\tau^{2}} 2 \\cos{\\left(\\tau \\right)} + \\operatorname{x_{2}}{\\left(\\tau \\right)} + 4 \\sin^{3}{\\left(\\tau \\right)} \\cos{\\left(\\tau \\right)} \\frac{d}{d \\tau} 2 \\cos{\\left(\\tau \\right)} + 4 \\cos^{2}{\\left(\\tau \\right)} \\frac{d}{d \\tau} \\sin^{3}{\\left(\\tau \\right)} + \\frac{d^{2}}{d \\tau^{2}} \\operatorname{x_{2}}{\\left(\\tau \\right)} - \\frac{d}{d \\tau} \\sin^{3}{\\left(\\tau \\right)} = 0$"
      ],
      "text/plain": [
       "       2                                                                      \n",
       "      d                           3           d                   2    d ⎛   3\n",
       "2⋅ω₂⋅───(2⋅cos(τ)) + x₂(τ) + 4⋅sin (τ)⋅cos(τ)⋅──(2⋅cos(τ)) + 4⋅cos (τ)⋅──⎝sin \n",
       "       2                                      dτ                       dτ     \n",
       "     dτ                                                                       \n",
       "\n",
       "         2                         \n",
       "   ⎞    d           d ⎛   3   ⎞    \n",
       "(τ)⎠ + ───(x₂(τ)) - ──⎝sin (τ)⎠ = 0\n",
       "         2          dτ             \n",
       "       dτ                          "
      ]
     },
     "execution_count": 14,
     "metadata": {},
     "output_type": "execute_result"
    }
   ],
   "source": [
    "ccc = epsilon_3_Eq.subs(x0,2 * sp.cos(tau))\n",
    "ccc = ccc.subs(x1,(sp.sin(tau))**3)\n",
    "ccc = ccc.subs(a,2)\n",
    "#ccc = ccc.subs(omega_i[1],0)\n",
    "ccc"
   ]
  },
  {
   "cell_type": "code",
   "execution_count": 15,
   "metadata": {},
   "outputs": [
    {
     "data": {
      "text/latex": [
       "$\\displaystyle \\operatorname{x_{2}}{\\left(\\tau \\right)} = \\left(2 \\omega_{2} \\tau + \\frac{\\tau}{8}\\right) \\sin{\\left(\\tau \\right)} + \\left(- \\frac{5 \\sin^{4}{\\left(\\tau \\right)}}{6} - \\frac{\\sin^{2}{\\left(\\tau \\right)}}{8}\\right) \\cos{\\left(\\tau \\right)}$"
      ],
      "text/plain": [
       "                              ⎛       4         2   ⎞       \n",
       "        ⎛         τ⎞          ⎜  5⋅sin (τ)   sin (τ)⎟       \n",
       "x₂(τ) = ⎜2⋅ω₂⋅τ + ─⎟⋅sin(τ) + ⎜- ───────── - ───────⎟⋅cos(τ)\n",
       "        ⎝         8⎠          ⎝      6          8   ⎠       "
      ]
     },
     "execution_count": 15,
     "metadata": {},
     "output_type": "execute_result"
    }
   ],
   "source": [
    "from sympy import *\n",
    "init_printing(use_latex='mathjax')\n",
    "a = sp.symbols('a')\n",
    "x02 = Function('x_2')\n",
    "tau = Symbol('tau')\n",
    "X2 = dsolve(ccc,x02(tau),ics={x02(0): 0, x02(tau).diff(tau).subs(tau, 0): 0})\n",
    "X2"
   ]
  },
  {
   "cell_type": "markdown",
   "metadata": {},
   "source": [
    "In order to eliminate the resonant force, we need to choose $\\omega_2 = -1/16$"
   ]
  },
  {
   "cell_type": "markdown",
   "metadata": {},
   "source": [
    "This is how we show that the the frequency of the limit cycle is given by $\\omega = 1 -1/16 \\epsilon^2 + ....$"
   ]
  },
  {
   "cell_type": "markdown",
   "metadata": {},
   "source": [
    "For weak nonlinearities the limit cycle of the van der Pol oscillator is approximately circular with radius 2."
   ]
  }
 ],
 "metadata": {
  "kernelspec": {
   "display_name": "Python 3 (ipykernel)",
   "language": "python",
   "name": "python3"
  },
  "language_info": {
   "codemirror_mode": {
    "name": "ipython",
    "version": 3
   },
   "file_extension": ".py",
   "mimetype": "text/x-python",
   "name": "python",
   "nbconvert_exporter": "python",
   "pygments_lexer": "ipython3",
   "version": "3.9.12"
  }
 },
 "nbformat": 4,
 "nbformat_minor": 4
}
