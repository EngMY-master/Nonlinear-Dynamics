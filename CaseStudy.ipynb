{
 "cells": [
  {
   "cell_type": "markdown",
   "metadata": {},
   "source": [
    "# Problem 9 "
   ]
  },
  {
   "cell_type": "markdown",
   "metadata": {},
   "source": [
    "Plot some time series data for the Lorenz system (8.7) when σ = 10, b = 8/3 and 166 ≤ r ≤ 167. When r = 166.2, the solution shows intermittent behavior, and there are occasional chaotic bursts in between what looks like periodic behavior."
   ]
  },
  {
   "cell_type": "markdown",
   "metadata": {},
   "source": [
    "$$\n",
    "\\dot{x} = \\sigma (y-x) \\\\  \\dot{y} = rx - y - xz \\\\ \\dot{z} = xy - bz\n",
    "$$"
   ]
  },
  {
   "cell_type": "code",
   "execution_count": 1,
   "metadata": {
    "ExecuteTime": {
     "end_time": "2022-12-13T04:14:08.444946Z",
     "start_time": "2022-12-13T04:13:59.657976Z"
    }
   },
   "outputs": [
    {
     "name": "stdout",
     "output_type": "stream",
     "text": [
      "Note: you may need to restart the kernel to use updated packages.\n"
     ]
    }
   ],
   "source": [
    "%pip install -q ipywidgets\n",
    "\n",
    "import numpy as np\n",
    "from matplotlib import pyplot as plt\n",
    "from scipy import integrate\n",
    "\n",
    "from ipywidgets import interactive, fixed\n",
    "\n",
    "from pylab import rcParams\n"
   ]
  },
  {
   "cell_type": "code",
   "execution_count": 2,
   "metadata": {
    "ExecuteTime": {
     "end_time": "2022-12-13T04:14:08.570968Z",
     "start_time": "2022-12-13T04:14:08.560215Z"
    }
   },
   "outputs": [],
   "source": [
    "rcParams['figure.figsize'] = 20, 10"
   ]
  },
  {
   "cell_type": "code",
   "execution_count": 3,
   "metadata": {
    "ExecuteTime": {
     "end_time": "2022-12-13T04:14:09.176880Z",
     "start_time": "2022-12-13T04:14:09.136955Z"
    }
   },
   "outputs": [],
   "source": [
    "def solve_lorenz(sigma=10.0, beta=8./3, rho=28.0):\n",
    "    \"\"\"Plot a solution to the Lorenz differential equations.\"\"\"\n",
    "\n",
    "    max_time = 4.0\n",
    "    N = 30\n",
    "\n",
    "    fig = plt.figure(1)\n",
    "    ax = fig.add_axes([0, 0, 1, 1], projection='3d')\n",
    "    ax.axis('off')\n",
    "\n",
    "    # prepare the axes limits\n",
    "    #ax.set_xlim((-25, 25))\n",
    "    #ax.set_ylim((-35, 35))\n",
    "    #ax.set_zlim((5, 55))\n",
    "    \n",
    "    def lorenz_deriv(x_y_z, t0, sigma=sigma, beta=beta, rho=rho):\n",
    "        \"\"\"Compute the time-derivative of a Lorenz system.\"\"\"\n",
    "        x, y, z = x_y_z\n",
    "        return [-sigma * (x - y), rho * x - y - x * z, -beta*z+x*y]\n",
    "\n",
    "    # Choose random starting points, uniformly distributed from -15 to 15\n",
    "    np.random.seed(1)\n",
    "    x0 = -15 + 30 * np.random.random((N, 3))\n",
    "\n",
    "    # Solve for the trajectories\n",
    "    t = np.linspace(0, max_time, int(250*max_time))\n",
    "    x_t = np.asarray([integrate.odeint(lorenz_deriv, x0i, t) for x0i in x0])\n",
    "    \n",
    "    # choose a different color for each trajectory\n",
    "    colors = plt.cm.viridis(np.linspace(0, 1, N))\n",
    "\n",
    "    for i in range(N):\n",
    "        x, y, z = x_t[i,:,:].T\n",
    "        lines = ax.plot(x, y, z, '-', c=colors[i])\n",
    "        plt.setp(lines, linewidth=2)\n",
    "    angle = 104\n",
    "    ax.view_init(30, angle)\n",
    "    plt.show()\n",
    "\n",
    "    return t, x_t"
   ]
  },
  {
   "cell_type": "code",
   "execution_count": 4,
   "metadata": {
    "ExecuteTime": {
     "end_time": "2022-12-13T04:14:12.435747Z",
     "start_time": "2022-12-13T04:14:10.588042Z"
    }
   },
   "outputs": [
    {
     "data": {
      "application/vnd.jupyter.widget-view+json": {
       "model_id": "873dc3e655f54c40b6142ee71e1ba1b2",
       "version_major": 2,
       "version_minor": 0
      },
      "text/plain": [
       "interactive(children=(FloatSlider(value=10.0, description='sigma', max=30.0, min=-10.0), FloatSlider(value=2.6…"
      ]
     },
     "metadata": {},
     "output_type": "display_data"
    }
   ],
   "source": [
    "w=interactive(solve_lorenz,sigma=10.0,beta=8./3,rho=(155.0,170.0))\n",
    "w"
   ]
  },
  {
   "cell_type": "code",
   "execution_count": 5,
   "metadata": {
    "ExecuteTime": {
     "end_time": "2022-12-13T04:14:24.097192Z",
     "start_time": "2022-12-13T04:14:24.065369Z"
    }
   },
   "outputs": [],
   "source": [
    "def solve_lorenz2(sigma=10.0, beta=8./3, rho=28.0):\n",
    "    \"\"\"Plot a solution to the Lorenz differential equations.\"\"\"\n",
    "\n",
    "    max_time = 4.0\n",
    "    N = 30\n",
    "\n",
    "    fig = plt.figure(1)\n",
    "    ax1 = plt.subplot(311)\n",
    "    ax2 = plt.subplot(312, sharex=ax1)\n",
    "    ax3 = plt.subplot(313, sharex=ax1)\n",
    "\n",
    "    # prepare the axes limits\n",
    "    ax1.set_xlim((0, 1000))\n",
    "    #ax1.set_ylim((0, 1000))\n",
    "    ax2.set_xlim((0, 1000))\n",
    "    #ax2.set_ylim((0, 1000))\n",
    "    ax3.set_xlim((0, 1000))\n",
    "    #ax3.set_ylim((0, 1000))\n",
    "    \n",
    "    def lorenz_deriv(x_y_z, t0, sigma=sigma, beta=beta, rho=rho):\n",
    "        \"\"\"Compute the time-derivative of a Lorenz system.\"\"\"\n",
    "        x, y, z = x_y_z\n",
    "        return [sigma * (y - x), x * (rho - z) - y, x * y - beta * z]\n",
    "\n",
    "    # Choose random starting points, uniformly distributed from -15 to 15\n",
    "    np.random.seed(1)\n",
    "    x0 = -15 + 30 * np.random.random((N, 3))\n",
    "\n",
    "    # Solve for the trajectories\n",
    "    t = np.linspace(0, max_time, int(250*max_time))\n",
    "    x_t = np.asarray([integrate.odeint(lorenz_deriv, x0i, t)\n",
    "                      for x0i in x0])\n",
    "    \n",
    "    x, y, z = x_t[20,:,:].T\n",
    "\n",
    "    ax1.plot(z)\n",
    "    ax1.set_ylabel('$z$')\n",
    "\n",
    "    ax2.plot(y)\n",
    "    ax2.set_ylabel('$y$')\n",
    "\n",
    "    ax3.plot(x)\n",
    "    ax3.set_ylabel('$x$')\n",
    "    ax3.set_xlabel('$n$')\n",
    "    plt.show()\n",
    "\n",
    "    return t, x_t"
   ]
  },
  {
   "cell_type": "code",
   "execution_count": 6,
   "metadata": {
    "ExecuteTime": {
     "end_time": "2022-12-13T04:14:28.271357Z",
     "start_time": "2022-12-13T04:14:25.568477Z"
    }
   },
   "outputs": [
    {
     "data": {
      "application/vnd.jupyter.widget-view+json": {
       "model_id": "ead84e9e10354a739054713f0fc055be",
       "version_major": 2,
       "version_minor": 0
      },
      "text/plain": [
       "interactive(children=(FloatSlider(value=10.0, description='sigma', max=30.0, min=-10.0), FloatSlider(value=2.6…"
      ]
     },
     "metadata": {},
     "output_type": "display_data"
    }
   ],
   "source": [
    "w=interactive(solve_lorenz2,sigma=10.0,beta=8./3,rho=(155.0,170.0))\n",
    "w"
   ]
  },
  {
   "cell_type": "markdown",
   "metadata": {},
   "source": [
    "# Problem 2"
   ]
  },
  {
   "cell_type": "code",
   "execution_count": 7,
   "metadata": {
    "ExecuteTime": {
     "end_time": "2022-12-13T04:14:44.902190Z",
     "start_time": "2022-12-13T04:14:43.357410Z"
    }
   },
   "outputs": [
    {
     "data": {
      "text/plain": [
       "{x: 0, y: 0, z: 0}"
      ]
     },
     "execution_count": 7,
     "metadata": {},
     "output_type": "execute_result"
    }
   ],
   "source": [
    "import numpy as np\n",
    "import sympy as sm\n",
    "from sympy import solve\n",
    "from sympy.abc import x, y, z\n",
    "\n",
    "Xdot = x+2*z\n",
    "Ydot = y-3*z\n",
    "Zdot = 2*y+z\n",
    "\n",
    "XdotZer = sm.Eq(Xdot, 0)\n",
    "YdotZer = sm.Eq(Ydot, 0)\n",
    "ZdotZer = sm.Eq(Zdot, 0)\n",
    "\n",
    "CriticalPoints = sm.solve( [XdotZer, YdotZer, ZdotZer], x, y, z )\n",
    "CriticalPoints\n"
   ]
  },
  {
   "cell_type": "code",
   "execution_count": 8,
   "metadata": {
    "ExecuteTime": {
     "end_time": "2022-12-13T04:14:46.320654Z",
     "start_time": "2022-12-13T04:14:46.277624Z"
    }
   },
   "outputs": [
    {
     "data": {
      "text/latex": [
       "$\\displaystyle \\left[\\begin{matrix}1 & 0 & 2\\\\0 & 1 & -3\\\\0 & 2 & 1\\end{matrix}\\right]$"
      ],
      "text/plain": [
       "Matrix([\n",
       "[1, 0,  2],\n",
       "[0, 1, -3],\n",
       "[0, 2,  1]])"
      ]
     },
     "execution_count": 8,
     "metadata": {},
     "output_type": "execute_result"
    }
   ],
   "source": [
    "JM2 = sm.Matrix([ Xdot, Ydot, Zdot ])\n",
    "JM3 = sm.Matrix([ x, y, z ])\n",
    "JacobianM = JM2.jacobian(JM3)\n",
    "JacobianM"
   ]
  },
  {
   "cell_type": "code",
   "execution_count": 9,
   "metadata": {
    "ExecuteTime": {
     "end_time": "2022-12-13T04:14:47.263097Z",
     "start_time": "2022-12-13T04:14:47.217834Z"
    }
   },
   "outputs": [
    {
     "data": {
      "text/latex": [
       "$\\displaystyle \\left[\\begin{matrix}1 & 0 & 2\\\\0 & 1 & -3\\\\0 & 2 & 1\\end{matrix}\\right]$"
      ],
      "text/plain": [
       "Matrix([\n",
       "[1, 0,  2],\n",
       "[0, 1, -3],\n",
       "[0, 2,  1]])"
      ]
     },
     "execution_count": 9,
     "metadata": {},
     "output_type": "execute_result"
    }
   ],
   "source": [
    "JM = JacobianM.subs([ (x, 0), (y, 0), (z,0) ])\n",
    "JM"
   ]
  },
  {
   "cell_type": "code",
   "execution_count": 10,
   "metadata": {
    "ExecuteTime": {
     "end_time": "2022-12-13T04:14:48.213108Z",
     "start_time": "2022-12-13T04:14:48.178178Z"
    }
   },
   "outputs": [
    {
     "data": {
      "text/plain": [
       "(array([1.+0.j        , 1.+2.44948974j, 1.-2.44948974j]),\n",
       " array([[ 1.        +0.j        , -0.45883147+0.j        ,\n",
       "         -0.45883147-0.j        ],\n",
       "        [ 0.        +0.j        ,  0.6882472 +0.j        ,\n",
       "          0.6882472 -0.j        ],\n",
       "        [ 0.        +0.j        ,  0.        -0.56195149j,\n",
       "          0.        +0.56195149j]]))"
      ]
     },
     "execution_count": 10,
     "metadata": {},
     "output_type": "execute_result"
    }
   ],
   "source": [
    "JM = np.float64(JM)\n",
    "Eig = np.linalg.eig(JM)\n",
    "Eig"
   ]
  },
  {
   "cell_type": "code",
   "execution_count": 11,
   "metadata": {
    "ExecuteTime": {
     "end_time": "2022-12-13T04:14:49.596586Z",
     "start_time": "2022-12-13T04:14:49.576298Z"
    }
   },
   "outputs": [
    {
     "data": {
      "text/plain": [
       "((1+0j), (1+2.4494897427831783j), (1-2.4494897427831783j))"
      ]
     },
     "execution_count": 11,
     "metadata": {},
     "output_type": "execute_result"
    }
   ],
   "source": [
    "# Eigenvalues are \n",
    "Eig[0][0], Eig[0][1], Eig[0][2]"
   ]
  },
  {
   "cell_type": "code",
   "execution_count": 12,
   "metadata": {
    "ExecuteTime": {
     "end_time": "2022-12-13T04:14:51.116727Z",
     "start_time": "2022-12-13T04:14:51.079021Z"
    }
   },
   "outputs": [],
   "source": [
    "rcParams['figure.figsize'] = 20, 10"
   ]
  },
  {
   "cell_type": "code",
   "execution_count": 16,
   "metadata": {
    "ExecuteTime": {
     "end_time": "2022-12-13T04:15:43.476754Z",
     "start_time": "2022-12-13T04:15:43.440245Z"
    }
   },
   "outputs": [],
   "source": [
    "def solve_lorenz2(sigma=1, beta=1, rho=1):\n",
    "    max_time = 4.0\n",
    "    N = 30\n",
    "\n",
    "    fig = plt.figure(1)\n",
    "    ax1 = plt.subplot(311)\n",
    "    ax2 = plt.subplot(312, sharex=ax1)\n",
    "    ax3 = plt.subplot(313, sharex=ax1)\n",
    "\n",
    "    # prepare the axes limits\n",
    "    ax1.set_xlim((0, 1000))\n",
    "    #ax1.set_ylim((0, 1000))\n",
    "    ax2.set_xlim((0, 1000))\n",
    "    #ax2.set_ylim((0, 1000))\n",
    "    ax3.set_xlim((0, 1000))\n",
    "    #ax3.set_ylim((0, 1000))\n",
    "    \n",
    "    def lorenz_deriv(x_y_z, t0, sigma=sigma, beta=beta, rho=rho):\n",
    "        x, y, z = x_y_z\n",
    "        return [x+2*z,y-3*z,2*y+z]\n",
    "\n",
    "    # Choose random starting points, uniformly distributed from -15 to 15\n",
    "    np.random.seed(1)\n",
    "    x0 = -15 + 30 * np.random.random((N, 3))\n",
    "\n",
    "    # Solve for the trajectories\n",
    "    t = np.linspace(0, max_time, int(250*max_time))\n",
    "    x_t = np.asarray([integrate.odeint(lorenz_deriv, x0i, t)\n",
    "                      for x0i in x0])\n",
    "    \n",
    "    # Change 20 to any other to test different initial condition\n",
    "    x, y, z = x_t[20,:,:].T\n",
    "\n",
    "    ax1.plot(z)\n",
    "    ax1.set_ylabel('$z$')\n",
    "\n",
    "    ax2.plot(y)\n",
    "    ax2.set_ylabel('$y$')\n",
    "\n",
    "    ax3.plot(x)\n",
    "    ax3.set_ylabel('$x$')\n",
    "    ax3.set_xlabel('$n$')\n",
    "    plt.show()\n",
    "\n",
    "    return t, x_t"
   ]
  },
  {
   "cell_type": "code",
   "execution_count": 17,
   "metadata": {
    "ExecuteTime": {
     "end_time": "2022-12-13T04:15:45.891288Z",
     "start_time": "2022-12-13T04:15:44.917737Z"
    }
   },
   "outputs": [
    {
     "data": {
      "application/vnd.jupyter.widget-view+json": {
       "model_id": "1d88b46f348f44eda368744ae0c96736",
       "version_major": 2,
       "version_minor": 0
      },
      "text/plain": [
       "interactive(children=(IntSlider(value=1, description='sigma', max=3, min=-1), IntSlider(value=1, description='…"
      ]
     },
     "metadata": {},
     "output_type": "display_data"
    }
   ],
   "source": [
    "w=interactive(solve_lorenz2,sigma=1,beta=1,rho=1)\n",
    "w"
   ]
  },
  {
   "cell_type": "code",
   "execution_count": null,
   "metadata": {},
   "outputs": [],
   "source": []
  },
  {
   "cell_type": "code",
   "execution_count": 14,
   "metadata": {
    "ExecuteTime": {
     "end_time": "2022-12-13T04:15:15.949818Z",
     "start_time": "2022-12-13T04:15:15.908995Z"
    }
   },
   "outputs": [],
   "source": [
    "def solve_lorenz(sigma=1, beta=1, rho=1):\n",
    "\n",
    "    max_time = 4.0\n",
    "    N = 30\n",
    "\n",
    "    fig = plt.figure(1)\n",
    "    ax = fig.add_axes([0, 0, 1, 1], projection='3d')\n",
    "    ax.axis('off')\n",
    "\n",
    "    def lorenz_deriv(x_y_z, t0, sigma=sigma, beta=beta, rho=rho):\n",
    "        x, y, z = x_y_z\n",
    "        return [x+2*z,y-3*z,2*y+z]\n",
    "\n",
    "    # Choose random starting points, uniformly distributed from -15 to 15\n",
    "    np.random.seed(1)\n",
    "    x0 = -15 + 30 * np.random.random((N, 3))\n",
    "\n",
    "    # Solve for the trajectories\n",
    "    t = np.linspace(0, max_time, int(250*max_time))\n",
    "    x_t = np.asarray([integrate.odeint(lorenz_deriv, x0i, t) for x0i in x0])\n",
    "    \n",
    "    # choose a different color for each trajectory\n",
    "    colors = plt.cm.viridis(np.linspace(0, 1, N))\n",
    "\n",
    "    for i in range(N):\n",
    "        x, y, z = x_t[i,:,:].T\n",
    "        lines = ax.plot(x, y, z, '-', c=colors[i])\n",
    "        plt.setp(lines, linewidth=2)\n",
    "    angle = 104\n",
    "    ax.view_init(30, angle)\n",
    "    plt.show()\n",
    "\n",
    "    return t, x_t"
   ]
  },
  {
   "cell_type": "code",
   "execution_count": 15,
   "metadata": {
    "ExecuteTime": {
     "end_time": "2022-12-13T04:15:18.601064Z",
     "start_time": "2022-12-13T04:15:17.978024Z"
    }
   },
   "outputs": [
    {
     "data": {
      "application/vnd.jupyter.widget-view+json": {
       "model_id": "450907b6c00047bd97b0f22717874ec1",
       "version_major": 2,
       "version_minor": 0
      },
      "text/plain": [
       "interactive(children=(IntSlider(value=1, description='sigma', max=3, min=-1), IntSlider(value=1, description='…"
      ]
     },
     "metadata": {},
     "output_type": "display_data"
    }
   ],
   "source": [
    "w=interactive(solve_lorenz,sigma=1,beta=1,rho=1)\n",
    "w"
   ]
  }
 ],
 "metadata": {
  "kernelspec": {
   "display_name": "Python 3 (ipykernel)",
   "language": "python",
   "name": "python3"
  },
  "language_info": {
   "codemirror_mode": {
    "name": "ipython",
    "version": 3
   },
   "file_extension": ".py",
   "mimetype": "text/x-python",
   "name": "python",
   "nbconvert_exporter": "python",
   "pygments_lexer": "ipython3",
   "version": "3.9.12"
  },
  "toc": {
   "base_numbering": 1,
   "nav_menu": {},
   "number_sections": true,
   "sideBar": true,
   "skip_h1_title": false,
   "title_cell": "Table of Contents",
   "title_sidebar": "Contents",
   "toc_cell": false,
   "toc_position": {},
   "toc_section_display": true,
   "toc_window_display": false
  },
  "varInspector": {
   "cols": {
    "lenName": 16,
    "lenType": 16,
    "lenVar": 40
   },
   "kernels_config": {
    "python": {
     "delete_cmd_postfix": "",
     "delete_cmd_prefix": "del ",
     "library": "var_list.py",
     "varRefreshCmd": "print(var_dic_list())"
    },
    "r": {
     "delete_cmd_postfix": ") ",
     "delete_cmd_prefix": "rm(",
     "library": "var_list.r",
     "varRefreshCmd": "cat(var_dic_list()) "
    }
   },
   "types_to_exclude": [
    "module",
    "function",
    "builtin_function_or_method",
    "instance",
    "_Feature"
   ],
   "window_display": false
  }
 },
 "nbformat": 4,
 "nbformat_minor": 4
}
